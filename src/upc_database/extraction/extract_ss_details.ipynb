{
 "cells": [
  {
   "cell_type": "markdown",
   "metadata": {},
   "source": [
    "# Extract Excel Sheet Headers to YAML\n",
    "\n",
    "## Import Packages"
   ]
  },
  {
   "cell_type": "code",
   "execution_count": 9,
   "metadata": {},
   "outputs": [],
   "source": [
    "import os\n",
    "import yaml\n",
    "import pandas as pd"
   ]
  },
  {
   "cell_type": "markdown",
   "metadata": {},
   "source": [
    "## User File Selection\n",
    "### Load Input File"
   ]
  },
  {
   "cell_type": "code",
   "execution_count": 10,
   "metadata": {},
   "outputs": [],
   "source": [
    "def load_excel(excel_file_path):\n",
    "    return pd.read_excel(excel_file_path)"
   ]
  },
  {
   "cell_type": "code",
   "execution_count": 11,
   "metadata": {},
   "outputs": [],
   "source": [
    "# Read the Excel file\n",
    "excel_filename = '../../../data/liquor/working-liquor.xlsx'\n",
    "\n",
    "# Check if the file exists\n",
    "if not os.path.exists(excel_filename):\n",
    "    raise FileNotFoundError(f\"No such file or directory: '{excel_filename}'\")\n",
    "\n",
    "# Load the Excel file\n",
    "excel_data = load_excel(excel_filename)\n"
   ]
  },
  {
   "cell_type": "markdown",
   "metadata": {},
   "source": [
    "### Set Output File"
   ]
  },
  {
   "cell_type": "code",
   "execution_count": 12,
   "metadata": {},
   "outputs": [],
   "source": [
    "# Write to a YAML file\n",
    "def write_yaml(yaml_file_path, data):\n",
    "    with open(yaml_file_path, 'w') as file:\n",
    "        yaml.dump(data, file)"
   ]
  },
  {
   "cell_type": "code",
   "execution_count": 13,
   "metadata": {},
   "outputs": [],
   "source": [
    "# Set the output YAML file path\n",
    "output_yaml_filepath = os.path.join(os.getcwd(), 'working-liquor-details.yml')"
   ]
  },
  {
   "cell_type": "markdown",
   "metadata": {},
   "source": [
    "## Extract Headers"
   ]
  },
  {
   "cell_type": "code",
   "execution_count": 14,
   "metadata": {},
   "outputs": [],
   "source": [
    "# Extract headers and their respective unique values\n",
    "headers_info = {}\n",
    "for header in excel_data.columns:\n",
    "    unique_values = excel_data[header].dropna().unique()\n",
    "    unique_values_list = unique_values.tolist()\n",
    "    \n",
    "    # Check for empty columns\n",
    "    if unique_values_list:\n",
    "        max_string_length = max(len(str(value)) for value in unique_values_list)\n",
    "    else:\n",
    "        max_string_length = 0\n",
    "    \n",
    "    headers_info[header] = {\n",
    "        'total_values': int(excel_data[header].size - excel_data[header].notna().sum()),\n",
    "        'total_unique_values': len(unique_values_list),\n",
    "        'max_string_length': max_string_length,\n",
    "        'unique_values': unique_values_list\n",
    "    }"
   ]
  },
  {
   "cell_type": "markdown",
   "metadata": {},
   "source": [
    "### Write to Temp YAML File"
   ]
  },
  {
   "cell_type": "code",
   "execution_count": 15,
   "metadata": {},
   "outputs": [
    {
     "name": "stdout",
     "output_type": "stream",
     "text": [
      "Headers information has been saved to temp.yml\n"
     ]
    }
   ],
   "source": [
    "write_yaml('temp.yml', headers_info)\n",
    "print(\"Headers information has been saved to temp.yml\")"
   ]
  },
  {
   "cell_type": "markdown",
   "metadata": {},
   "source": [
    "### Write to Output File"
   ]
  },
  {
   "cell_type": "code",
   "execution_count": 16,
   "metadata": {},
   "outputs": [
    {
     "name": "stdout",
     "output_type": "stream",
     "text": [
      "Processed data has been saved to /workspaces/alcohol-database/src/alcohol_database/extraction/working-liquor-details.yml\n"
     ]
    }
   ],
   "source": [
    "# Step 1: Read the YAML file\n",
    "yaml_file_path = 'temp.yml'\n",
    "with open(yaml_file_path, 'r', encoding='utf-8') as yaml_file:\n",
    "    data = yaml.safe_load(yaml_file)\n",
    "\n",
    "# Step 2: Process the string (if needed)\n",
    "# In this case, the string is already correctly encoded in the YAML file.\n",
    "\n",
    "# Step 3: Write the processed data back to a new YAML file\n",
    "with open(output_yaml_filepath, 'w', encoding='utf-8') as yaml_file:\n",
    "    yaml.dump(data, yaml_file, allow_unicode=True, default_flow_style=False)\n",
    "\n",
    "print(f\"Processed data has been saved to {output_yaml_filepath}\")"
   ]
  }
 ],
 "metadata": {
  "kernelspec": {
   "display_name": "Python 3",
   "language": "python",
   "name": "python3"
  },
  "language_info": {
   "codemirror_mode": {
    "name": "ipython",
    "version": 3
   },
   "file_extension": ".py",
   "mimetype": "text/x-python",
   "name": "python",
   "nbconvert_exporter": "python",
   "pygments_lexer": "ipython3",
   "version": "3.12.1"
  }
 },
 "nbformat": 4,
 "nbformat_minor": 2
}
